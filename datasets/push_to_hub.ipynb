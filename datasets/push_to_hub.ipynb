{
 "cells": [
  {
   "cell_type": "code",
   "execution_count": null,
   "metadata": {},
   "outputs": [],
   "source": [
    "import pickle\n",
    "from datasets import Dataset, load_dataset\n",
    "import openslide as ops\n",
    "import os"
   ]
  },
  {
   "cell_type": "code",
   "execution_count": null,
   "metadata": {},
   "outputs": [],
   "source": [
    "#dataset = load_dataset(\"Cilem/histopathology-1024\")\n",
    "dataset = pickle.load(open(\"./merged_embeddings/merged_dataset.pkl\", \"rb\"))"
   ]
  },
  {
   "cell_type": "code",
   "execution_count": null,
   "metadata": {},
   "outputs": [],
   "source": [
    "print(len(dataset))"
   ]
  },
  {
   "cell_type": "code",
   "execution_count": null,
   "metadata": {},
   "outputs": [],
   "source": [
    "def search_slide(slide_path, slide_name):\n",
    "    for root, dirs, files in os.walk(slide_path):\n",
    "        for file in files:\n",
    "            if slide_name in file:\n",
    "                path = os.path.join(root, file)\n",
    "                organ = path.split('/')[-2]\n",
    "                return organ"
   ]
  },
  {
   "cell_type": "code",
   "execution_count": null,
   "metadata": {},
   "outputs": [],
   "source": [
    "from collections import defaultdict\n",
    "\n",
    "dset = []\n",
    "organ_counts = defaultdict(int)\n",
    "max_samples_per_organ = 14500\n",
    "\n",
    "for i, d in enumerate(dataset):\n",
    "    slide_name = d['slide_name']\n",
    "    organ = search_slide('/home/cilem/Lfstorage/wsis/', slide_name)\n",
    "    if organ_counts[organ] >= max_samples_per_organ:\n",
    "        continue  # Belirtilen organ sayısına ulaşıldıysa atla\n",
    "    \n",
    "    d['organ'] = organ\n",
    "    dset.append(d)\n",
    "    organ_counts[organ] += 1\n",
    "\n"
   ]
  },
  {
   "cell_type": "code",
   "execution_count": null,
   "metadata": {},
   "outputs": [],
   "source": [
    "print(len(dset))\n",
    "\n",
    "from collections import Counter\n",
    "print(Counter([d['organ'] for d in dset]))"
   ]
  },
  {
   "cell_type": "code",
   "execution_count": null,
   "metadata": {},
   "outputs": [],
   "source": [
    "new_dset = []\n",
    "for i, d in enumerate(dset):\n",
    "    slide_name = d['slide_name']\n",
    "    path = os.path.join('/home/cilem/Lfstorage/wsis', d['organ'], slide_name)\n",
    "    x = d['x']\n",
    "    y = d['y']\n",
    "    patch_size = d['patch_size']\n",
    "    slide = ops.OpenSlide(path)\n",
    "    patch = slide.read_region((x, y), 0, patch_size)\n",
    "    #patch = patch.resize((224, 224))\n",
    "    d['patch_image'] = patch\n",
    "    new_dset.append(d)"
   ]
  },
  {
   "cell_type": "code",
   "execution_count": null,
   "metadata": {},
   "outputs": [],
   "source": [
    "new_dset = dset"
   ]
  },
  {
   "cell_type": "code",
   "execution_count": null,
   "metadata": {},
   "outputs": [],
   "source": [
    "dataset = Dataset.from_dict({\"organ\": [item[\"organ\"] for item in new_dset],\n",
    "                             \"slide_name\": [item[\"slide_name\"] for item in new_dset],\n",
    "                             \"x\": [item[\"x\"] for item in new_dset],\n",
    "                             \"y\": [item[\"y\"] for item in new_dset],\n",
    "                             \"level\": [item[\"level\"] for item in new_dset],\n",
    "                             \"patch_size\": [item[\"patch_size\"] for item in new_dset],\n",
    "                             \"resize\": [item[\"resize\"] for item in new_dset],\n",
    "                             \"image_embedding_vector\": [item[\"embedding_vector\"] for item in new_dset]})"
   ]
  },
  {
   "cell_type": "code",
   "execution_count": null,
   "metadata": {},
   "outputs": [],
   "source": [
    "dataset.push_to_hub(\"Cilem/mixed-histopathology-512\")"
   ]
  }
 ],
 "metadata": {
  "kernelspec": {
   "display_name": "path",
   "language": "python",
   "name": "python3"
  },
  "language_info": {
   "codemirror_mode": {
    "name": "ipython",
    "version": 3
   },
   "file_extension": ".py",
   "mimetype": "text/x-python",
   "name": "python",
   "nbconvert_exporter": "python",
   "pygments_lexer": "ipython3",
   "version": "3.10.9"
  }
 },
 "nbformat": 4,
 "nbformat_minor": 2
}
