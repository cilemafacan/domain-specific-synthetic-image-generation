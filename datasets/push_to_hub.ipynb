{
 "cells": [
  {
   "cell_type": "code",
   "execution_count": null,
   "metadata": {},
   "outputs": [],
   "source": [
    "import pickle\n",
    "from datasets import Dataset, load_dataset\n",
    "import openslide as ops\n",
    "import os"
   ]
  },
  {
   "cell_type": "code",
   "execution_count": null,
   "metadata": {},
   "outputs": [],
   "source": [
    "#dataset = load_dataset(\"Cilem/histopathology-1024\")\n",
    "dataset = pickle.load(open(\"./merged_embeddings/merged_dataset.pkl\", \"rb\"))"
   ]
  },
  {
   "cell_type": "code",
   "execution_count": null,
   "metadata": {},
   "outputs": [],
   "source": [
    "print(len(dataset))"
   ]
  },
  {
   "cell_type": "code",
   "execution_count": null,
   "metadata": {},
   "outputs": [],
   "source": [
    "\"\"\" dset = []\n",
    "for i, d in enumerate(dataset[\"train\"]):\n",
    "    slide_name = d['slide_name']\n",
    "    path = os.path.join('wsi', slide_name)\n",
    "\n",
    "    x = d['x']\n",
    "    y = d['y']\n",
    "    patch_size = d['patch_size']\n",
    "\n",
    "    slide = ops.OpenSlide(path)\n",
    "    patch = slide.read_region((x, y), 0, patch_size)\n",
    "    patch = patch.resize((224, 224))\n",
    "    d['patch_image'] = patch\n",
    "    dset.append(d) \"\"\""
   ]
  },
  {
   "cell_type": "code",
   "execution_count": null,
   "metadata": {},
   "outputs": [],
   "source": [
    "#print(dset[1].keys())"
   ]
  },
  {
   "cell_type": "code",
   "execution_count": null,
   "metadata": {},
   "outputs": [],
   "source": [
    "def search_slide(slide_path, slide_name):\n",
    "    for root, dirs, files in os.walk(slide_path):\n",
    "        for file in files:\n",
    "            if slide_name in file:\n",
    "                path = os.path.join(root, file)\n",
    "                organ = root.split('/')[-1]\n",
    "                return organ"
   ]
  },
  {
   "cell_type": "code",
   "execution_count": null,
   "metadata": {},
   "outputs": [],
   "source": [
    "dataset = Dataset.from_dict({\"organ\": [search_slide(\"./wsis\", item[\"slide_name\"]) for item in dataset],\n",
    "                             \"slide_name\": [item[\"slide_name\"] for item in dataset],\n",
    "                             \"x\": [item[\"x\"] for item in dataset],\n",
    "                             \"y\": [item[\"y\"] for item in dataset],\n",
    "                             \"level\": [item[\"level\"] for item in dataset],\n",
    "                             \"patch_size\": [item[\"patch_size\"] for item in dataset],\n",
    "                             \"resize\": [item[\"resize\"] for item in dataset],\n",
    "                             \"embedding_vector\": [item[\"embedding_vector\"] for item in dataset]})"
   ]
  },
  {
   "cell_type": "code",
   "execution_count": null,
   "metadata": {},
   "outputs": [],
   "source": [
    "dataset.push_to_hub(\"Cilem/mixed-histopathology-512\")"
   ]
  }
 ],
 "metadata": {
  "kernelspec": {
   "display_name": "path",
   "language": "python",
   "name": "python3"
  },
  "language_info": {
   "codemirror_mode": {
    "name": "ipython",
    "version": 3
   },
   "file_extension": ".py",
   "mimetype": "text/x-python",
   "name": "python",
   "nbconvert_exporter": "python",
   "pygments_lexer": "ipython3",
   "version": "3.10.16"
  }
 },
 "nbformat": 4,
 "nbformat_minor": 2
}
