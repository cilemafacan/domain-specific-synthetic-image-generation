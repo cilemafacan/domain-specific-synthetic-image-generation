{
 "cells": [
  {
   "cell_type": "code",
   "execution_count": null,
   "metadata": {},
   "outputs": [],
   "source": [
    "import pickle\n",
    "import torch\n",
    "import torch.nn as nn\n",
    "import torchvision.models as models\n",
    "import numpy as np\n",
    "import matplotlib.pyplot as plt\n",
    "import logging\n",
    "\n",
    "from sklearn.manifold import TSNE\n",
    "from scipy.linalg import sqrtm\n",
    "from torch.utils.data import DataLoader\n",
    "from datasets import load_dataset\n",
    "from torchvision import transforms\n",
    "from utils.dataset_loader import CustomDatasetFromSlide, CustomDatasetWithGenerated"
   ]
  },
  {
   "cell_type": "code",
   "execution_count": null,
   "metadata": {},
   "outputs": [],
   "source": [
    "SLIDE_DIR = \"/home/cilem/Lfstorage/wsis\"\n",
    "DEVICE = torch.device(\"cuda:1\" if torch.cuda.is_available() else \"cpu\")\n",
    "GENERATED_DIR = \"../diffusion/generated_images/generated_images_t2i.pkl\"\n",
    "\n",
    "logging.basicConfig(level=logging.INFO, format='%(asctime)s - %(message)s', datefmt='%d-%b-%y %H:%M:%S', filename='fid_t2i.log')\n",
    "logging.info(f\"Device: {DEVICE}\")"
   ]
  },
  {
   "cell_type": "code",
   "execution_count": null,
   "metadata": {},
   "outputs": [],
   "source": [
    "train_dataset = load_dataset(\"Cilem/mixed-histopathology-512\")\n",
    "\n",
    "logging.info(f\"Train dataset size: {len(train_dataset)}\")\n",
    "generated_dataset = pickle.load(open(GENERATED_DIR, \"rb\"))"
   ]
  },
  {
   "cell_type": "code",
   "execution_count": null,
   "metadata": {},
   "outputs": [],
   "source": [
    "transform = transforms.Compose([transforms.Resize((299, 299)),\n",
    "                                transforms.ToTensor(),\n",
    "                                transforms.Normalize([0.5], [0.5])])\n",
    "\n",
    "logging.info(f\"Transforms: {transform}\")\n",
    "\n",
    "fids = []\n",
    "train_data = CustomDatasetFromSlide(train_dataset, slide_dir=SLIDE_DIR, transform=transform)\n",
    "train_loader = DataLoader(train_data, batch_size=32, shuffle=False)\n",
    "\n",
    "generated_data = CustomDatasetWithGenerated(generated_dataset, transform=transform)\n",
    "gen_loader = DataLoader(generated_data, batch_size=32, shuffle=False)"
   ]
  },
  {
   "cell_type": "code",
   "execution_count": null,
   "metadata": {},
   "outputs": [],
   "source": [
    "class InceptionV3(nn.Module):\n",
    "    def __init__(self):\n",
    "        super(InceptionV3, self).__init__()\n",
    "        self.inception = models.inception_v3(weights=\"DEFAULT\")\n",
    "        #self.inception.fc = nn.Identity()\n",
    "    \n",
    "    def forward(self, x):\n",
    "        x = self.inception(x)\n",
    "        if isinstance(x, tuple):\n",
    "            x = x[0]\n",
    "        return x"
   ]
  },
  {
   "cell_type": "code",
   "execution_count": null,
   "metadata": {},
   "outputs": [],
   "source": [
    "model = InceptionV3().eval().to(DEVICE)\n",
    "logging.info(f\"Model: {model}\")"
   ]
  },
  {
   "cell_type": "code",
   "execution_count": null,
   "metadata": {},
   "outputs": [],
   "source": [
    "def get_features(dataloader, model, key):\n",
    "    features = []\n",
    "    with torch.no_grad():\n",
    "        for images in dataloader:\n",
    "            images = images[key].to(DEVICE)\n",
    "            feat = model(images)\n",
    "            features.append(feat.cpu().numpy())\n",
    "    return np.concatenate(features, axis=0)"
   ]
  },
  {
   "cell_type": "code",
   "execution_count": null,
   "metadata": {},
   "outputs": [],
   "source": [
    "train_features = get_features(train_loader, model, key=\"image\")\n",
    "generated_features = get_features(gen_loader, model, key=\"generated\")"
   ]
  },
  {
   "cell_type": "code",
   "execution_count": null,
   "metadata": {},
   "outputs": [],
   "source": [
    "def calculate_fid(mu1, sigma1, mu2, sigma2):\n",
    "    diff = mu1 - mu2\n",
    "    covmean = sqrtm(sigma1 @ sigma2)\n",
    "    if np.iscomplexobj(covmean):\n",
    "        covmean = covmean.real\n",
    "    fid = diff @ diff + np.trace(sigma1 + sigma2 - 2 * covmean)\n",
    "    return fid"
   ]
  },
  {
   "cell_type": "code",
   "execution_count": null,
   "metadata": {},
   "outputs": [],
   "source": [
    "mu_train, sigma_train = train_features.mean(axis=0), np.cov(train_features, rowvar=False)\n",
    "mu_generated, sigma_generated = generated_features.mean(axis=0), np.cov(generated_features, rowvar=False)\n",
    "\n",
    "logging.info(f\"mu_train: {mu_train}, sigma_train: {sigma_train}\")\n",
    "logging.info(f\"mu_generated: {mu_generated}, sigma_generated: {sigma_generated}\")"
   ]
  },
  {
   "cell_type": "code",
   "execution_count": null,
   "metadata": {},
   "outputs": [],
   "source": [
    "# FID skoru hesaplama\n",
    "fid_score = calculate_fid(mu_train, sigma_train, mu_generated, sigma_generated)\n",
    "print(f'FID Score: {fid_score}')\n",
    "logging.info(f\"FID Score: {fid_score}\")"
   ]
  },
  {
   "cell_type": "code",
   "execution_count": null,
   "metadata": {},
   "outputs": [],
   "source": [
    "# TSNE ile görselleştirme\n",
    "all_features = np.vstack([train_features, generated_features])\n",
    "labels = np.array([0] * len(train_features) + [1] * len(generated_features))\n",
    "\n",
    "tsne = TSNE(n_components=2, perplexity=30, random_state=42)\n",
    "features_2d = tsne.fit_transform(all_features)"
   ]
  },
  {
   "cell_type": "code",
   "execution_count": null,
   "metadata": {},
   "outputs": [],
   "source": [
    "fig = plt.figure(figsize=(8,6))\n",
    "plt.scatter(features_2d[labels == 0, 0], features_2d[labels == 0, 1], label='Real Data', alpha=0.5)\n",
    "plt.scatter(features_2d[labels == 1, 0], features_2d[labels == 1, 1], label='Generated Data', alpha=0.5)\n",
    "plt.legend()\n",
    "plt.title(\"TSNE Visualization of Feature Distributions Text2Image\")\n",
    "plt.show()\n",
    "fig.savefig(\"tsne_text2image.png\")"
   ]
  },
  {
   "cell_type": "code",
   "execution_count": null,
   "metadata": {},
   "outputs": [],
   "source": [
    "from torch.nn import functional as F\n",
    "def inception_score(dataloader, model, key):\n",
    "\n",
    "    preds = []\n",
    "    with torch.no_grad():\n",
    "        for batch in dataloader:\n",
    "            batch = batch[key].to(DEVICE)\n",
    "            logits = model(batch)\n",
    "            probas = F.softmax(logits, dim=1)\n",
    "            preds.append(probas.cpu())\n",
    "\n",
    "    preds = torch.cat(preds, dim=0)\n",
    "    p_y = preds.mean(dim=0, keepdim=True)\n",
    "\n",
    "    # KL Divergence hesapla\n",
    "    kl_div = preds * (torch.log(preds) - torch.log(p_y))\n",
    "    kl_div = kl_div.sum(dim=1) \n",
    "    kl_mean = kl_div.mean().item()\n",
    "   \n",
    "    IS = torch.exp(kl_mean).item()\n",
    "\n",
    "    return IS"
   ]
  },
  {
   "cell_type": "code",
   "execution_count": null,
   "metadata": {},
   "outputs": [],
   "source": [
    "is_score = inception_score(gen_loader, model, key=\"generated\")\n",
    "print(f'Inception Score: {is_score}')\n",
    "logging.info(f\"Inception Score: {is_score}\")"
   ]
  },
  {
   "cell_type": "code",
   "execution_count": null,
   "metadata": {},
   "outputs": [],
   "source": []
  }
 ],
 "metadata": {
  "kernelspec": {
   "display_name": "path",
   "language": "python",
   "name": "python3"
  },
  "language_info": {
   "codemirror_mode": {
    "name": "ipython",
    "version": 3
   },
   "file_extension": ".py",
   "mimetype": "text/x-python",
   "name": "python",
   "nbconvert_exporter": "python",
   "pygments_lexer": "ipython3",
   "version": "3.10.9"
  }
 },
 "nbformat": 4,
 "nbformat_minor": 2
}
