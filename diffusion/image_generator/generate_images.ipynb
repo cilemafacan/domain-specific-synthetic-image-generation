{
 "cells": [
  {
   "cell_type": "code",
   "execution_count": null,
   "metadata": {},
   "outputs": [],
   "source": [
    "import pickle\n",
    "import matplotlib.pyplot as plt\n",
    "\n",
    "from torch.utils.data import DataLoader\n",
    "from diffusers import StableDiffusionPipeline\n",
    "from utils.dataset_loader import CustomDatasetWithLatent"
   ]
  },
  {
   "cell_type": "code",
   "execution_count": null,
   "metadata": {},
   "outputs": [],
   "source": [
    "dataset_name = \"../latent_files/dataset_with_latents_t2i.pkl\"\n",
    "model_name = \"../trained_models/histopathology-diffusion-t2i-256\"\n",
    "device = \"cuda:2\"\n",
    "dataset = pickle.load(open(dataset_name, \"rb\"))\n",
    "dataset = CustomDatasetWithLatent(dataset)\n",
    "data_loader = DataLoader(dataset, batch_size=64, shuffle=False)"
   ]
  },
  {
   "cell_type": "code",
   "execution_count": null,
   "metadata": {},
   "outputs": [],
   "source": [
    "pipeline = StableDiffusionPipeline.from_pretrained(model_name, safety_checker=None)\n",
    "pipeline = pipeline.to(device)"
   ]
  },
  {
   "cell_type": "code",
   "execution_count": null,
   "metadata": {},
   "outputs": [],
   "source": [
    "outs = []\n",
    "for data in data_loader:\n",
    "    embeddings = data[\"embedding\"]\n",
    "    embeddings = embeddings#.unsqueeze(1)\n",
    "    output = pipeline(\n",
    "        prompt_embeds=embeddings,\n",
    "        guidance_scale=0.0,\n",
    "        num_inference_steps=40\n",
    "    ).images\n",
    "\n",
    "    for i in range(len(output)):\n",
    "        outs.append({\n",
    "            'generated': output[i]\n",
    "        })\n",
    "    \n",
    "    if len(outs) >= 40:\n",
    "        break"
   ]
  },
  {
   "cell_type": "code",
   "execution_count": null,
   "metadata": {},
   "outputs": [],
   "source": [
    "print(len(outs))"
   ]
  },
  {
   "cell_type": "code",
   "execution_count": null,
   "metadata": {},
   "outputs": [],
   "source": [
    "display(outs[30]['generated'])"
   ]
  },
  {
   "cell_type": "code",
   "execution_count": null,
   "metadata": {},
   "outputs": [],
   "source": [
    "\"\"\" with open('generated_images_i2i.pkl', 'wb') as f:\n",
    "    pickle.dump(outs, f) \"\"\""
   ]
  },
  {
   "cell_type": "code",
   "execution_count": null,
   "metadata": {},
   "outputs": [],
   "source": [
    "selected_images = 40\n",
    "fig, axs = plt.subplots(4, 10, figsize=(20, 8))\n",
    "fig.suptitle('Text to Image Generation')\n",
    "\n",
    "for i in range(selected_images):\n",
    "    generated = outs[i]['generated']\n",
    "    axs[i // 10, i % 10].imshow(generated)\n",
    "    axs[i // 10, i % 10].axis('off')\n",
    "\n",
    "plt.tight_layout()\n",
    "plt.show()\n",
    "fig.savefig('generated_images_t2i.png')"
   ]
  }
 ],
 "metadata": {
  "kernelspec": {
   "display_name": "path",
   "language": "python",
   "name": "python3"
  },
  "language_info": {
   "codemirror_mode": {
    "name": "ipython",
    "version": 3
   },
   "file_extension": ".py",
   "mimetype": "text/x-python",
   "name": "python",
   "nbconvert_exporter": "python",
   "pygments_lexer": "ipython3",
   "version": "3.10.9"
  }
 },
 "nbformat": 4,
 "nbformat_minor": 2
}
